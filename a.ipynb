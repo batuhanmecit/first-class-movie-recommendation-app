{
 "cells": [
  {
   "cell_type": "code",
   "execution_count": 2,
   "metadata": {},
   "outputs": [],
   "source": [
    "import requests\n",
    "import pandas as pd\n",
    "import dropbox \n",
    "\n",
    "url = \"https://www.dropbox.com/scl/fo/2fx4w2u1cijokgmhsp6ul/h?dl=0&rlkey=zoy9j8t9emft3zhq63bfhdh0k\"\n",
    "response = requests.get(url)\n",
    "with open(\"data.csv\", \"wb\") as f:\n",
    "    f.write(response.content)\n",
    "data = pd.read_csv(\"data.csv\", sep=\"\\t\")\n"
   ]
  }
 ],
 "metadata": {
  "kernelspec": {
   "display_name": "Python 3",
   "language": "python",
   "name": "python3"
  },
  "language_info": {
   "codemirror_mode": {
    "name": "ipython",
    "version": 3
   },
   "file_extension": ".py",
   "mimetype": "text/x-python",
   "name": "python",
   "nbconvert_exporter": "python",
   "pygments_lexer": "ipython3",
   "version": "3.11.2"
  },
  "orig_nbformat": 4
 },
 "nbformat": 4,
 "nbformat_minor": 2
}
